{
 "cells": [
  {
   "cell_type": "markdown",
   "id": "722ada15",
   "metadata": {},
   "source": [
    "# pytorchの基本的なネットワークの書き方\n",
    "- 参考1: https://dreamer-uma.com/pytorch-network/\n",
    "- 普通のネットワークと、画像処理用(mnist)をかく"
   ]
  },
  {
   "cell_type": "code",
   "execution_count": 1,
   "id": "aedf72fe",
   "metadata": {},
   "outputs": [],
   "source": [
    "import torch\n",
    "import torch.nn as nn\n",
    "import torch.nn.functional as F\n",
    "from torchinfo import summary"
   ]
  },
  {
   "cell_type": "code",
   "execution_count": 2,
   "id": "73bdcec5",
   "metadata": {},
   "outputs": [
    {
     "data": {
      "text/plain": [
       "tensor([[-0.0646, -0.9462, -1.8819,  0.6788,  1.0726, -0.0242,  1.3104,  0.0874,\n",
       "          0.1953, -0.9395]])"
      ]
     },
     "execution_count": 2,
     "metadata": {},
     "output_type": "execute_result"
    }
   ],
   "source": [
    "sample = torch.randn(1, 10)\n",
    "sample"
   ]
  },
  {
   "cell_type": "code",
   "execution_count": 6,
   "id": "6189b256",
   "metadata": {},
   "outputs": [
    {
     "data": {
      "text/plain": [
       "==========================================================================================\n",
       "Layer (type:depth-idx)                   Output Shape              Param #\n",
       "==========================================================================================\n",
       "Sequential                               --                        --\n",
       "├─Linear: 1-1                            [2, 32]                   352\n",
       "├─ReLU: 1-2                              [2, 32]                   --\n",
       "├─Linear: 1-3                            [2, 16]                   528\n",
       "├─ReLU: 1-4                              [2, 16]                   --\n",
       "├─Linear: 1-5                            [2, 10]                   170\n",
       "==========================================================================================\n",
       "Total params: 1,050\n",
       "Trainable params: 1,050\n",
       "Non-trainable params: 0\n",
       "Total mult-adds (M): 0.00\n",
       "==========================================================================================\n",
       "Input size (MB): 0.00\n",
       "Forward/backward pass size (MB): 0.00\n",
       "Params size (MB): 0.00\n",
       "Estimated Total Size (MB): 0.01\n",
       "=========================================================================================="
      ]
     },
     "execution_count": 6,
     "metadata": {},
     "output_type": "execute_result"
    }
   ],
   "source": [
    "# Sequentialの書き方、非推奨\n",
    "model = nn.Sequential(\n",
    "            nn.Linear(10, 32),\n",
    "            nn.ReLU(),\n",
    "            nn.Linear(32, 16),\n",
    "            nn.ReLU(),\n",
    "            nn.Linear(16, 10)\n",
    "            )\n",
    "batch_size=2\n",
    "summary(model, input_size=(batch_size, 10))"
   ]
  },
  {
   "cell_type": "code",
   "execution_count": 6,
   "id": "ba6beaa6",
   "metadata": {},
   "outputs": [
    {
     "data": {
      "text/plain": [
       "tensor([[-0.0489, -0.0845, -0.2164,  0.0039,  0.0456, -0.0747,  0.2197, -0.0894,\n",
       "          0.1584, -0.1344]], grad_fn=<AddmmBackward>)"
      ]
     },
     "execution_count": 6,
     "metadata": {},
     "output_type": "execute_result"
    }
   ],
   "source": [
    "y = model(sample)\n",
    "y"
   ]
  },
  {
   "cell_type": "markdown",
   "id": "76c09af1",
   "metadata": {},
   "source": [
    "## モジュール化の方法\n",
    "- こっちの方が良い"
   ]
  },
  {
   "cell_type": "code",
   "execution_count": 8,
   "id": "49a22224",
   "metadata": {},
   "outputs": [],
   "source": [
    "# ネットワークのモジュール化\n",
    "class Model(nn.Module):\n",
    "    def __init__(self, input):\n",
    "        super(Model, self).__init__()\n",
    "        \n",
    "        # ネットワークを定義\n",
    "        self.linear1 = nn.Linear(input, 32)\n",
    "        self.linear2 = nn.Linear(32, 16)\n",
    "        self.linear3 = nn.Linear(16, 10)\n",
    "        self.relu = nn.ReLU()\n",
    "\n",
    "    # 順伝搬を定義\n",
    "    def forward(self, x):\n",
    "        x = self.linear1(x)\n",
    "        x = self.relu(x)\n",
    "        x = self.linear2(x)\n",
    "        x = self.relu(x)\n",
    "        x = self.linear3(x)\n",
    "        return x"
   ]
  },
  {
   "cell_type": "code",
   "execution_count": 12,
   "id": "b880eb7b",
   "metadata": {},
   "outputs": [
    {
     "data": {
      "text/plain": [
       "=================================================================\n",
       "Layer (type:depth-idx)                   Param #\n",
       "=================================================================\n",
       "Model                                    --\n",
       "├─CustomLayer: 1-1                       --\n",
       "│    └─Linear: 2-1                       352\n",
       "│    └─ReLU: 2-2                         --\n",
       "├─CustomLayer: 1-2                       --\n",
       "│    └─Linear: 2-3                       528\n",
       "│    └─ReLU: 2-4                         --\n",
       "├─Linear: 1-3                            170\n",
       "=================================================================\n",
       "Total params: 1,050\n",
       "Trainable params: 1,050\n",
       "Non-trainable params: 0\n",
       "================================================================="
      ]
     },
     "execution_count": 12,
     "metadata": {},
     "output_type": "execute_result"
    }
   ],
   "source": [
    "# instance化\n",
    "model = Model(input=10)\n",
    "summary(model)"
   ]
  },
  {
   "cell_type": "code",
   "execution_count": 13,
   "id": "2ba0b898",
   "metadata": {},
   "outputs": [
    {
     "data": {
      "text/plain": [
       "tensor([[ 0.3301, -0.0238, -0.0342, -0.2546, -0.2904,  0.2286, -0.0889, -0.0780,\n",
       "          0.0853, -0.1050]], grad_fn=<AddmmBackward0>)"
      ]
     },
     "execution_count": 13,
     "metadata": {},
     "output_type": "execute_result"
    }
   ],
   "source": [
    "\n",
    "# 順伝搬\n",
    "y = model(sample)\n",
    "y"
   ]
  },
  {
   "cell_type": "markdown",
   "id": "769a9524",
   "metadata": {},
   "source": [
    "- この書き方の最大のメリットは、以下のようにレイヤーをまとめて書けること"
   ]
  },
  {
   "cell_type": "code",
   "execution_count": 15,
   "id": "9b995215",
   "metadata": {},
   "outputs": [],
   "source": [
    "# Custum Layer\n",
    "class CustomLayer(nn.Module):\n",
    "    def __init__(self, input, output):\n",
    "        super(CustomLayer, self).__init__()\n",
    "        self.linear=nn.Linear(input, output)\n",
    "        self.relu=nn.ReLU()\n",
    "    def forward(self, x):\n",
    "        x=self.linear(x)\n",
    "        x=self.relu(x)\n",
    "        return x"
   ]
  },
  {
   "cell_type": "code",
   "execution_count": 16,
   "id": "9b99f07e",
   "metadata": {},
   "outputs": [],
   "source": [
    "# ネットワークをモジュール化\n",
    "class Model(nn.Module):\n",
    "    def __init__(self, input):\n",
    "        super(Model, self).__init__()\n",
    "        self.custom1 = CustomLayer(input, 32)\n",
    "        self.custom2 = CustomLayer(32, 16)\n",
    "        self.linear3 = nn.Linear(16, 10)\n",
    "\n",
    "    def forward(self, x):\n",
    "        x = self.custom1(x)\n",
    "        x = self.custom2(x)\n",
    "        x = self.linear3(x)\n",
    "        return x"
   ]
  },
  {
   "cell_type": "code",
   "execution_count": 17,
   "id": "7f6637c2",
   "metadata": {},
   "outputs": [
    {
     "data": {
      "text/plain": [
       "=================================================================\n",
       "Layer (type:depth-idx)                   Param #\n",
       "=================================================================\n",
       "Model                                    --\n",
       "├─CustomLayer: 1-1                       --\n",
       "│    └─Linear: 2-1                       352\n",
       "│    └─ReLU: 2-2                         --\n",
       "├─CustomLayer: 1-2                       --\n",
       "│    └─Linear: 2-3                       528\n",
       "│    └─ReLU: 2-4                         --\n",
       "├─Linear: 1-3                            170\n",
       "=================================================================\n",
       "Total params: 1,050\n",
       "Trainable params: 1,050\n",
       "Non-trainable params: 0\n",
       "================================================================="
      ]
     },
     "execution_count": 17,
     "metadata": {},
     "output_type": "execute_result"
    }
   ],
   "source": [
    "model = Model(input=10)\n",
    "summary(model)"
   ]
  },
  {
   "cell_type": "code",
   "execution_count": 18,
   "id": "09a4e92f",
   "metadata": {},
   "outputs": [
    {
     "data": {
      "text/plain": [
       "tensor([[-0.0200,  0.0898,  0.0871, -0.2877, -0.2205,  0.3135, -0.0316, -0.0006,\n",
       "         -0.0649,  0.0456]], grad_fn=<AddmmBackward0>)"
      ]
     },
     "execution_count": 18,
     "metadata": {},
     "output_type": "execute_result"
    }
   ],
   "source": [
    "y = model(sample)\n",
    "y"
   ]
  },
  {
   "cell_type": "code",
   "execution_count": 19,
   "id": "e465a288",
   "metadata": {},
   "outputs": [],
   "source": [
    "import torch\n",
    "import torch.nn as nn\n",
    "import torch.nn.functional as F\n",
    "import torch.optim as optim#最適化手法\n",
    "import torchvision#画像処理\n",
    "import torchvision.transforms as transforms # 画像変換\n",
    "\n",
    "import numpy as np\n",
    "import matplotlib.pyplot as plt\n",
    "%matplotlib inline\n",
    "\n",
    "# グラフのスタイルを指定\n",
    "plt.style.use('seaborn-darkgrid')"
   ]
  },
  {
   "cell_type": "code",
   "execution_count": 20,
   "id": "dda1ef84",
   "metadata": {},
   "outputs": [],
   "source": [
    "#trans = transforms.Compose([transforms.ToTensor(), transforms.Normalize((0.5,), (0.5,))])#この段階で、データを変換したいならこのようにする\n",
    "\n",
    "train_dataset = torchvision.datasets.MNIST(root='./data',\n",
    "                                           train=True,\n",
    "                                           transform=transforms.ToTensor(),\n",
    "                                           download=True)\n",
    "\n",
    "test_dataset = torchvision.datasets.MNIST(root='./data',\n",
    "                                           train=False,\n",
    "                                           transform=transforms.ToTensor(),\n",
    "                                           download=True)"
   ]
  },
  {
   "cell_type": "code",
   "execution_count": 23,
   "id": "4d31ddd9",
   "metadata": {},
   "outputs": [
    {
     "name": "stdout",
     "output_type": "stream",
     "text": [
      "<class 'torch.Tensor'>\n"
     ]
    },
    {
     "data": {
      "image/png": "[encoded data removed]",
      "text/plain": [
       "<Figure size 432x288 with 5 Axes>"
      ]
     },
     "metadata": {},
     "output_type": "display_data"
    }
   ],
   "source": [
    "fig, axes = plt.subplots(1, 5)\n",
    "for i in range(5):\n",
    "    axes[i].imshow(train_dataset[i][0].view(-1, 28), cmap='gray')\n",
    "    axes[i].axis(\"off\")\n",
    "print(type(train_dataset[0][0]))"
   ]
  },
  {
   "cell_type": "code",
   "execution_count": 22,
   "id": "bdd8552c",
   "metadata": {},
   "outputs": [],
   "source": [
    "batch_size = 256\n",
    "\n",
    "# データをバッチごとにイテレータにする（これをモデルにぶん投げることで、ミニバッチごとにランダムに取り出してくれる）num_workersという引数もある、\n",
    "# drop_last=Trueにすることで最後の余りのデータは無視できる: 参考: https://dreamer-uma.com/pytorch-dataloader/\n",
    "train_loader = torch.utils.data.DataLoader(dataset=train_dataset,\n",
    "                                           batch_size=batch_size,\n",
    "                                           shuffle=True) \n",
    "\n",
    "test_loader = torch.utils.data.DataLoader(dataset=test_dataset,\n",
    "                                           batch_size=batch_size,\n",
    "                                           shuffle=False)"
   ]
  },
  {
   "cell_type": "code",
   "execution_count": 43,
   "id": "98422dba",
   "metadata": {},
   "outputs": [],
   "source": [
    "num_classes = 10\n",
    "\n",
    "class Net(nn.Module):\n",
    "    def __init__(self, input_size):\n",
    "        super(Net, self).__init__()\n",
    "        self.fc1 = nn.Linear(input_size, 1024)\n",
    "        self.fc2 = nn.Linear(1024, 512)\n",
    "        self.fc3 = nn.Linear(512, num_classes)\n",
    "\n",
    "    def forward(self, x):\n",
    "        x = F.relu(self.fc1(x))\n",
    "        x = F.relu(self.fc2(x))\n",
    "        x = self.fc3(x) # 最後の層のsoftmaxは不要なことに注意\n",
    "        return x"
   ]
  },
  {
   "cell_type": "code",
   "execution_count": 44,
   "id": "978023c2",
   "metadata": {},
   "outputs": [],
   "source": [
    "input_size=28*28\n",
    "device = 'cuda' if torch.cuda.is_available() else 'cpu'\n",
    "model = Net(input_size).to(device)"
   ]
  },
  {
   "cell_type": "code",
   "execution_count": 49,
   "id": "b49d7f71",
   "metadata": {},
   "outputs": [
    {
     "data": {
      "text/plain": [
       "==========================================================================================\n",
       "Layer (type:depth-idx)                   Output Shape              Param #\n",
       "==========================================================================================\n",
       "Net                                      --                        --\n",
       "├─Linear: 1-1                            [256, 1024]               803,840\n",
       "├─Linear: 1-2                            [256, 512]                524,800\n",
       "├─Linear: 1-3                            [256, 10]                 5,130\n",
       "==========================================================================================\n",
       "Total params: 1,333,770\n",
       "Trainable params: 1,333,770\n",
       "Non-trainable params: 0\n",
       "Total mult-adds (M): 341.45\n",
       "==========================================================================================\n",
       "Input size (MB): 0.80\n",
       "Forward/backward pass size (MB): 3.17\n",
       "Params size (MB): 5.34\n",
       "Estimated Total Size (MB): 9.30\n",
       "=========================================================================================="
      ]
     },
     "execution_count": 49,
     "metadata": {},
     "output_type": "execute_result"
    }
   ],
   "source": [
    "summary(model, input_size=(batch_size, input_size))"
   ]
  },
  {
   "cell_type": "code",
   "execution_count": 50,
   "id": "6e0a9fc1",
   "metadata": {},
   "outputs": [
    {
     "name": "stdout",
     "output_type": "stream",
     "text": [
      "Net(\n",
      "  (fc1): Linear(in_features=784, out_features=1024, bias=True)\n",
      "  (fc2): Linear(in_features=1024, out_features=512, bias=True)\n",
      "  (fc3): Linear(in_features=512, out_features=10, bias=True)\n",
      ")\n"
     ]
    }
   ],
   "source": [
    "print(model)\n",
    "#list(model.parameters())パラメタ一覧"
   ]
  },
  {
   "cell_type": "code",
   "execution_count": 51,
   "id": "01d378ab",
   "metadata": {},
   "outputs": [],
   "source": [
    "# 損失関数の設定: pytorchではCrossEntropyLoss()にsoftmax()の計算も含まれているので、最後の層のsoftmaxは不要なことに注意\n",
    "criterion = nn.CrossEntropyLoss()\n",
    "\n",
    "# 最適化手法を設定\n",
    "optimizer = optim.SGD(model.parameters(), lr=0.01)"
   ]
  },
  {
   "cell_type": "code",
   "execution_count": 52,
   "id": "7e2986c7",
   "metadata": {},
   "outputs": [],
   "source": [
    "def train_epoch(model, optimizer, criterion, dataloader, device):\n",
    "    train_loss = 0\n",
    "    model.train()\n",
    "\n",
    "    for step, (images, labels) in enumerate(dataloader):\n",
    "        # viewで1次元配列に変更\n",
    "        # toでgpuに転送\n",
    "        images, labels = images.view(-1, 28*28).to(device), labels.to(device)\n",
    "        # 勾配をリセット\n",
    "        optimizer.zero_grad()\n",
    "        # 順伝搬の計算\n",
    "        outputs = model(images)\n",
    "        # lossを計算\n",
    "        loss = criterion(outputs, labels)\n",
    "        # 逆伝搬の計算\n",
    "        loss.backward()\n",
    "        # 重みの更新\n",
    "        optimizer.step()\n",
    "        # lossのミニバッチ分を加算\n",
    "        train_loss += loss.item()\n",
    "    # データ数で割る\n",
    "    train_loss = train_loss / len(train_loader.dataset)\n",
    "    return train_loss"
   ]
  },
  {
   "cell_type": "markdown",
   "id": "596d7b69",
   "metadata": {},
   "source": [
    "criterion(outputs, labels) の入力の注意点をまとめておきます。\n",
    "\n",
    "- outpput : 少数値となる（size : torch.Size[mini batch size, label数] ） \n",
    "- labels : 整数値（今回は0〜9）を使用する（size : torch.Size[mini batch size]）\n",
    "\n",
    "つまり、PyTorchでは多値ラベルのone hot encodingが不要"
   ]
  },
  {
   "cell_type": "code",
   "execution_count": 53,
   "id": "70cb4f0a",
   "metadata": {},
   "outputs": [],
   "source": [
    "def inference(model, optimizer, criterion, dataloader, device):\n",
    "    # 評価モードに切り替え\n",
    "    model.eval()\n",
    "    test_loss=0\n",
    "\n",
    "    # 評価するとき勾配を計算しないように加える\n",
    "    with torch.no_grad():\n",
    "        for j, (images, labels) in enumerate(test_loader):\n",
    "            images, labels = images.view(-1, 28*28).to(device), labels.to(device)\n",
    "            outputs = model(images)\n",
    "            loss = criterion(outputs, labels)\n",
    "            test_loss += loss.item()\n",
    "        test_loss = test_loss / len(test_loader.dataset)\n",
    "    return test_loss"
   ]
  },
  {
   "cell_type": "code",
   "execution_count": 54,
   "id": "3f47a798",
   "metadata": {},
   "outputs": [],
   "source": [
    "def run(num_epochs, optimizer, criterion, device):\n",
    "    train_loss_list = []\n",
    "    test_loss_list = []\n",
    "    for epoch in range(num_epochs):\n",
    "        train_loss = train_epoch(model, optimizer, criterion, train_loader, device)\n",
    "        test_loss = inference(model, optimizer, criterion, test_loader, device)\n",
    "\n",
    "        print(f'Epoch [{epoch+1}], train_Loss : {train_loss:.4f}, val_Loss : {test_loss:.4f}')\n",
    "        train_loss_list.append(train_loss)\n",
    "        test_loss_list.append(test_loss)\n",
    "    return train_loss_list, test_loss_list"
   ]
  },
  {
   "cell_type": "code",
   "execution_count": 55,
   "id": "cd5dc941",
   "metadata": {},
   "outputs": [
    {
     "name": "stdout",
     "output_type": "stream",
     "text": [
      "Epoch [1], train_Loss : 0.0087, val_Loss : 0.0084\n",
      "Epoch [2], train_Loss : 0.0073, val_Loss : 0.0059\n",
      "Epoch [3], train_Loss : 0.0045, val_Loss : 0.0034\n",
      "Epoch [4], train_Loss : 0.0029, val_Loss : 0.0024\n",
      "Epoch [5], train_Loss : 0.0022, val_Loss : 0.0020\n",
      "Epoch [6], train_Loss : 0.0019, val_Loss : 0.0017\n",
      "Epoch [7], train_Loss : 0.0017, val_Loss : 0.0016\n",
      "Epoch [8], train_Loss : 0.0016, val_Loss : 0.0015\n",
      "Epoch [9], train_Loss : 0.0015, val_Loss : 0.0014\n",
      "Epoch [10], train_Loss : 0.0014, val_Loss : 0.0014\n",
      "Epoch [11], train_Loss : 0.0014, val_Loss : 0.0013\n",
      "Epoch [12], train_Loss : 0.0013, val_Loss : 0.0013\n",
      "Epoch [13], train_Loss : 0.0013, val_Loss : 0.0012\n",
      "Epoch [14], train_Loss : 0.0013, val_Loss : 0.0012\n",
      "Epoch [15], train_Loss : 0.0012, val_Loss : 0.0012\n",
      "Epoch [16], train_Loss : 0.0012, val_Loss : 0.0012\n",
      "Epoch [17], train_Loss : 0.0012, val_Loss : 0.0011\n",
      "Epoch [18], train_Loss : 0.0011, val_Loss : 0.0011\n",
      "Epoch [19], train_Loss : 0.0011, val_Loss : 0.0011\n",
      "Epoch [20], train_Loss : 0.0011, val_Loss : 0.0011\n",
      "Epoch [21], train_Loss : 0.0011, val_Loss : 0.0010\n",
      "Epoch [22], train_Loss : 0.0011, val_Loss : 0.0010\n",
      "Epoch [23], train_Loss : 0.0010, val_Loss : 0.0010\n",
      "Epoch [24], train_Loss : 0.0010, val_Loss : 0.0010\n",
      "Epoch [25], train_Loss : 0.0010, val_Loss : 0.0010\n",
      "Epoch [26], train_Loss : 0.0010, val_Loss : 0.0010\n",
      "Epoch [27], train_Loss : 0.0010, val_Loss : 0.0009\n",
      "Epoch [28], train_Loss : 0.0009, val_Loss : 0.0009\n",
      "Epoch [29], train_Loss : 0.0009, val_Loss : 0.0009\n",
      "Epoch [30], train_Loss : 0.0009, val_Loss : 0.0009\n"
     ]
    }
   ],
   "source": [
    "train_loss_list, test_loss_list = run(30, optimizer, criterion, device)"
   ]
  },
  {
   "cell_type": "code",
   "execution_count": 56,
   "id": "fe3063ab",
   "metadata": {},
   "outputs": [
    {
     "data": {
      "image/png": "[encoded data removed]",
      "text/plain": [
       "<Figure size 576x432 with 1 Axes>"
      ]
     },
     "metadata": {},
     "output_type": "display_data"
    }
   ],
   "source": [
    "num_epochs=30\n",
    "fig, ax = plt.subplots(figsize=(8, 6))\n",
    "ax.plot(range(num_epochs), train_loss_list, c='b', label='train loss')\n",
    "ax.plot(range(num_epochs), test_loss_list, c='r', label='test loss')\n",
    "ax.set_xlabel('epoch', fontsize='20')\n",
    "ax.set_ylabel('loss', fontsize='20')\n",
    "ax.set_title('training and validation loss', fontsize='20')\n",
    "ax.grid()\n",
    "ax.legend(fontsize='25')\n",
    "plt.show()"
   ]
  },
  {
   "cell_type": "code",
   "execution_count": 57,
   "id": "3c5e2279",
   "metadata": {},
   "outputs": [
    {
     "data": {
      "image/png": "[encoded data removed]",
      "text/plain": [
       "<Figure size 432x288 with 1 Axes>"
      ]
     },
     "metadata": {},
     "output_type": "display_data"
    }
   ],
   "source": [
    "# datasetからサンプルを一つ取り出す\n",
    "image, label = train_dataset[0]\n",
    "sample = train_dataset[0][0].view(-1, 28*28)\n",
    "\n",
    "# 学習後のモデルに予測される\n",
    "prediction_label = torch.argmax(model(sample))\n",
    "\n",
    "fig, ax = plt.subplots()\n",
    "ax.imshow(sample.detach().to('cpu').numpy().reshape(28, 28))\n",
    "ax.axis('off')\n",
    "ax.set_title(f'True Label : {label}, Prediction : {prediction_label}', fontsize=20)\n",
    "plt.show()"
   ]
  },
  {
   "cell_type": "code",
   "execution_count": null,
   "id": "8493181a",
   "metadata": {},
   "outputs": [],
   "source": []
  }
 ],
 "metadata": {
  "kernelspec": {
   "display_name": "modellib_pytorch_env",
   "language": "python",
   "name": "modellib_pytorch_env"
  },
  "language_info": {
   "codemirror_mode": {
    "name": "ipython",
    "version": 3
   },
   "file_extension": ".py",
   "mimetype": "text/x-python",
   "name": "python",
   "nbconvert_exporter": "python",
   "pygments_lexer": "ipython3",
   "version": "3.7.6"
  }
 },
 "nbformat": 4,
 "nbformat_minor": 5
}
