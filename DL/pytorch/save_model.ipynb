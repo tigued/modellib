{
 "cells": [
  {
   "cell_type": "markdown",
   "id": "09e04f5f",
   "metadata": {},
   "source": [
    "# モデルの保存方法\n",
    "- 詳しくは公式読め\n",
    "- 一応参考に: https://www.oio-blog.com/contents/pytorch-advanced\n",
    "\n",
    "まずモデルの保存を行う目的は２つあります。\n",
    "\n",
    "- 学習済みモデルを使って推論を行う\n",
    "- 保存済みモデルの学習を再開する\n",
    "\n",
    "目的によって、保存しておくべき内容が違います。\n",
    "次に PyTorch でモデルを保存する方法について確認してきます。\n",
    "PyTorch ではモデルを保存する方法が 2 通りあります。\n",
    "\n",
    "- モデル全体を保存する\n",
    "- モデルのパラメータを保存する\n",
    "\n",
    "さらに保存する際には GPU か CPU なのかを注意する必要があります。\n",
    "ややこしいですが、認識しておく必要があります。"
   ]
  },
  {
   "cell_type": "code",
   "execution_count": null,
   "id": "619ccba2",
   "metadata": {},
   "outputs": [],
   "source": [
    "# 以下はサンプル例かつ非推奨。ここで実行してもエラーになる\n",
    "# net.apply(init_weights)　# 追加\n",
    "# net.train() # 学習\n",
    "\n",
    "# 追加部分\n",
    "dir_name = 'output'\n",
    "\n",
    "if not os.path.exists(dir_name):\n",
    "    os.mkdir(dir_name)\n",
    "\n",
    "model_save_path = os.path.join(dir_name, \"model_full.pt\")\n",
    "\n",
    "# モデル保存\n",
    "torch.save(net, model_save_path)\n",
    "\n",
    "# モデルロード\n",
    "model_full = torch.load(model_save_path)"
   ]
  },
  {
   "cell_type": "markdown",
   "id": "15c87a9e",
   "metadata": {},
   "source": [
    "- 上の例は、gpuで保存時、次にロードする時gpuでないとまずいらしい\n",
    "- しかも保存時のサイズがでかい\n",
    "- なので、以下推奨"
   ]
  },
  {
   "cell_type": "code",
   "execution_count": null,
   "id": "f880e697",
   "metadata": {},
   "outputs": [],
   "source": [
    "# モデル保存\n",
    "# torch.save(net.state_dict(), model_save_path) # これもgpuで保存している（一応読み出す方法はある）\n",
    "torch.save(net.to('cpu').state_dict(), model_save_path) # なので一度cpu にする\n",
    "\n",
    "# モデルロード\n",
    "model_cpu.load_state_dict(torch.load(model_save_path))"
   ]
  },
  {
   "cell_type": "markdown",
   "id": "4f5a17d2",
   "metadata": {},
   "source": [
    "checkpointを作り、再学習のためモデルを保存する場合"
   ]
  },
  {
   "cell_type": "code",
   "execution_count": null,
   "id": "ce740b6a",
   "metadata": {},
   "outputs": [],
   "source": [
    "# 保存側\n",
    "if epoch % 3 == 0: # 好きなタイミングで止める\n",
    "        file_name = 'epoch_{}.pt'.format(epoch)\n",
    "        path = os.path.join(checkPoint_dir, file_name)\n",
    "        torch.save({\n",
    "            'epoch' : epoch,\n",
    "            'model_state_dict' : net.state_dict(),\n",
    "            'optimaizer_state_dict': optimizer.state_dict(),\n",
    "            'loss': avg_train_loss\n",
    "        }, path)"
   ]
  },
  {
   "cell_type": "code",
   "execution_count": null,
   "id": "bd63841c",
   "metadata": {},
   "outputs": [],
   "source": [
    "# 再学習側\n",
    "tmp_path = 'checkPoint/epoch_3.pt'\n",
    "\n",
    "if os.path.exists(tmp_path):\n",
    "    checkpoint = torch.load(tmp_path)\n",
    "    net.load_state_dict(checkpoint['model_state_dict'])\n",
    "    optimizer.load_state_dict(checkpoint['optimaizer_state_dict'])\n",
    "    epoch_num = checkpoint['epoch']\n",
    "    loss = checkpoint['loss']"
   ]
  },
  {
   "cell_type": "markdown",
   "id": "3ea1c051",
   "metadata": {},
   "source": [
    "## おまけ1: register_buffer\n",
    "- 論文実装の際にたまに使われる\n",
    "- model のパラメーター ではないけどモデルに持っておきたい値を保存する際に使う\n",
    "- 例:  Batchnormalization の計算のためのバッチごとの計算結果を保持するのに使われます。\n",
    "    - 疑問: もしかして普通のBNのgamma, betaは保存されないの？\n",
    "- 使い方は知らん"
   ]
  },
  {
   "cell_type": "code",
   "execution_count": null,
   "id": "5b1f1bc8",
   "metadata": {},
   "outputs": [],
   "source": []
  }
 ],
 "metadata": {
  "kernelspec": {
   "display_name": "modellib_pytorch_env",
   "language": "python",
   "name": "modellib_pytorch_env"
  },
  "language_info": {
   "codemirror_mode": {
    "name": "ipython",
    "version": 3
   },
   "file_extension": ".py",
   "mimetype": "text/x-python",
   "name": "python",
   "nbconvert_exporter": "python",
   "pygments_lexer": "ipython3",
   "version": "3.7.6"
  }
 },
 "nbformat": 4,
 "nbformat_minor": 5
}
