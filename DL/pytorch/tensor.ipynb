{
 "cells": [
  {
   "cell_type": "markdown",
   "id": "f88fde27",
   "metadata": {},
   "source": [
    "# pytorchのtensorのチュートリアル\n",
    "- 参考1: https://dreamer-uma.com/pytorch-tensor/"
   ]
  },
  {
   "cell_type": "code",
   "execution_count": 1,
   "id": "15ad71b4",
   "metadata": {},
   "outputs": [],
   "source": [
    "import torch\n",
    "import numpy as np"
   ]
  },
  {
   "cell_type": "code",
   "execution_count": 3,
   "id": "37e87b5b",
   "metadata": {},
   "outputs": [
    {
     "data": {
      "text/plain": [
       "tensor([[1., 2., 3.],\n",
       "        [4., 5., 6.]])"
      ]
     },
     "execution_count": 3,
     "metadata": {},
     "output_type": "execute_result"
    }
   ],
   "source": [
    "# リストを渡すことで配列を作成\n",
    "tensor = torch.tensor([[1, 2, 3], [4, 5, 6]], dtype = torch.float32)#モデルに使うのは基本float32\n",
    "tensor"
   ]
  },
  {
   "cell_type": "code",
   "execution_count": 4,
   "id": "14a1957e",
   "metadata": {},
   "outputs": [
    {
     "data": {
      "text/plain": [
       "tensor([1., 2., 3.])"
      ]
     },
     "execution_count": 4,
     "metadata": {},
     "output_type": "execute_result"
    }
   ],
   "source": [
    "# numpyからの変換\n",
    "torch.tensor(np.array([1.0, 2.0, 3.0])).float()"
   ]
  },
  {
   "cell_type": "code",
   "execution_count": 19,
   "id": "7c571924",
   "metadata": {},
   "outputs": [
    {
     "data": {
      "text/plain": [
       "array([[1., 2., 3.],\n",
       "       [4., 5., 6.]], dtype=float32)"
      ]
     },
     "execution_count": 19,
     "metadata": {},
     "output_type": "execute_result"
    }
   ],
   "source": [
    "# numpyへの変換\n",
    "tensor1 = torch.tensor([[1., 2., 3.], [4., 5., 6.]], device='cpu', requires_grad=True)\n",
    "array1 = tensor1.detach().clone().to('cpu').numpy() # 勾配情報を消去(detach)し、メモリ共有を防ぎ(clone)、デバイスをcpuにして変換\n",
    "# こうしないとエラーはく\n",
    "array1"
   ]
  },
  {
   "cell_type": "code",
   "execution_count": null,
   "id": "cac434af",
   "metadata": {},
   "outputs": [],
   "source": [
    "# リストへの変換\n",
    "a = torch.tensor([1., 2., 3.], device=\"cuda:0\", requires_grad=True)# gpuのままでも良いらしい\n",
    "a.tolist()"
   ]
  },
  {
   "cell_type": "code",
   "execution_count": 6,
   "id": "b468fbeb",
   "metadata": {},
   "outputs": [
    {
     "data": {
      "text/plain": [
       "tensor([[-0.0073, -0.2017],\n",
       "        [-1.1337, -1.1467]])"
      ]
     },
     "execution_count": 6,
     "metadata": {},
     "output_type": "execute_result"
    }
   ],
   "source": [
    "# 標準正規分布\n",
    "torch.randn(2, 2)"
   ]
  },
  {
   "cell_type": "code",
   "execution_count": 7,
   "id": "8dd89753",
   "metadata": {},
   "outputs": [
    {
     "data": {
      "text/plain": [
       "tensor([[0.4263, 0.1630],\n",
       "        [0.6022, 0.8640]])"
      ]
     },
     "execution_count": 7,
     "metadata": {},
     "output_type": "execute_result"
    }
   ],
   "source": [
    "# [0, 1)の間の一様乱数 \n",
    "torch.rand(2, 2)"
   ]
  },
  {
   "cell_type": "code",
   "execution_count": 12,
   "id": "acace815",
   "metadata": {},
   "outputs": [
    {
     "data": {
      "text/plain": [
       "tensor(2.)"
      ]
     },
     "execution_count": 12,
     "metadata": {},
     "output_type": "execute_result"
    }
   ],
   "source": [
    "# 自動微分の具体例\n",
    "x = torch.tensor(1.0, requires_grad=True)\n",
    "y = x**2\n",
    "y.backward() # 勾配計算\n",
    "x.grad"
   ]
  },
  {
   "cell_type": "code",
   "execution_count": 14,
   "id": "387eda8b",
   "metadata": {},
   "outputs": [
    {
     "name": "stdout",
     "output_type": "stream",
     "text": [
      "勾配計算の有無 True\n",
      "勾配計算の有無 False\n"
     ]
    }
   ],
   "source": [
    "x = torch.tensor(1.0, requires_grad=True)\n",
    "print('勾配計算の有無', (x**2).requires_grad)\n",
    "\n",
    "with torch.no_grad():\n",
    "    print('勾配計算の有無', (x**2).requires_grad)"
   ]
  },
  {
   "cell_type": "code",
   "execution_count": 15,
   "id": "107d7d37",
   "metadata": {},
   "outputs": [
    {
     "data": {
      "text/plain": [
       "torch.Size([2, 2])"
      ]
     },
     "execution_count": 15,
     "metadata": {},
     "output_type": "execute_result"
    }
   ],
   "source": [
    "# サイズ\n",
    "tensor1 = torch.tensor([[1, 2], [3, 4]])\n",
    "tensor1.size()"
   ]
  },
  {
   "cell_type": "code",
   "execution_count": 16,
   "id": "8df8fafa",
   "metadata": {},
   "outputs": [
    {
     "data": {
      "text/plain": [
       "tensor([[1, 2],\n",
       "        [3, 4],\n",
       "        [5, 6],\n",
       "        [7, 8]])"
      ]
     },
     "execution_count": 16,
     "metadata": {},
     "output_type": "execute_result"
    }
   ],
   "source": [
    "# reshape\n",
    "tensor1 = torch.tensor([[1, 2, 3, 4], [5, 6, 7, 8]])\n",
    "\n",
    "# 4行2列に変換\n",
    "tensor1 = tensor1.view(4, 2)\n",
    "tensor1"
   ]
  },
  {
   "cell_type": "code",
   "execution_count": 18,
   "id": "3c6ac42f",
   "metadata": {},
   "outputs": [
    {
     "name": "stdout",
     "output_type": "stream",
     "text": [
      "False\n",
      "cpu\n"
     ]
    },
    {
     "data": {
      "text/plain": [
       "tensor([[1, 2, 3],\n",
       "        [4, 5, 6]])"
      ]
     },
     "execution_count": 18,
     "metadata": {},
     "output_type": "execute_result"
    }
   ],
   "source": [
    "# デバイスへ渡す\n",
    "# GPUの使用を確認\n",
    "print(torch.cuda.is_available())\n",
    "# GPUが使用できる場合はGPUを使用し、そうでない場合はCPUを使用\n",
    "device = torch.device(\"cuda\" if torch.cuda.is_available() else \"cpu\")\n",
    "print(device)\n",
    "tensor1 = torch.tensor([[1, 2, 3], [4, 5, 6]])\n",
    "tensor1.to(device)"
   ]
  },
  {
   "cell_type": "code",
   "execution_count": 21,
   "id": "8fa14c6c",
   "metadata": {},
   "outputs": [
    {
     "data": {
      "text/plain": [
       "100"
      ]
     },
     "execution_count": 21,
     "metadata": {},
     "output_type": "execute_result"
    }
   ],
   "source": [
    "# 中身を取り出すitem\n",
    "# なんかよく使う。行列入ってるtensorはエラーはく\n",
    "tensor1 = torch.tensor([100])\n",
    "tensor1.item()"
   ]
  },
  {
   "cell_type": "code",
   "execution_count": 22,
   "id": "85126c30",
   "metadata": {},
   "outputs": [
    {
     "data": {
      "text/plain": [
       "torch.Size([3, 2, 4])"
      ]
     },
     "execution_count": 22,
     "metadata": {},
     "output_type": "execute_result"
    }
   ],
   "source": [
    "# 転置\n",
    "a = torch.ones(2, 3, 4)\n",
    "b = a.transpose(0, 1)\n",
    "b.size()"
   ]
  },
  {
   "cell_type": "code",
   "execution_count": 25,
   "id": "09e9bde1",
   "metadata": {},
   "outputs": [
    {
     "name": "stdout",
     "output_type": "stream",
     "text": [
      "tensor([[[1., 1., 1., 1.],\n",
      "         [1., 1., 1., 1.],\n",
      "         [1., 1., 1., 1.]],\n",
      "\n",
      "        [[1., 1., 1., 1.],\n",
      "         [1., 1., 1., 1.],\n",
      "         [1., 1., 1., 1.]]])\n",
      "tensor([[[1., 1., 1., 1.],\n",
      "         [1., 1., 1., 1.]],\n",
      "\n",
      "        [[1., 1., 1., 1.],\n",
      "         [1., 1., 1., 1.]],\n",
      "\n",
      "        [[1., 1., 1., 1.],\n",
      "         [1., 1., 1., 1.]]])\n"
     ]
    },
    {
     "data": {
      "text/plain": [
       "torch.Size([3, 2, 4])"
      ]
     },
     "execution_count": 25,
     "metadata": {},
     "output_type": "execute_result"
    }
   ],
   "source": [
    "# 軸入れ替え\n",
    "a = torch.ones(2, 3, 4) # \n",
    "print(a)\n",
    "b = a.permute(1, 0, 2)\n",
    "print(b)\n",
    "b.size()"
   ]
  },
  {
   "cell_type": "code",
   "execution_count": null,
   "id": "8cc1e335",
   "metadata": {},
   "outputs": [],
   "source": []
  }
 ],
 "metadata": {
  "kernelspec": {
   "display_name": "modellib_pytorch_env",
   "language": "python",
   "name": "modellib_pytorch_env"
  },
  "language_info": {
   "codemirror_mode": {
    "name": "ipython",
    "version": 3
   },
   "file_extension": ".py",
   "mimetype": "text/x-python",
   "name": "python",
   "nbconvert_exporter": "python",
   "pygments_lexer": "ipython3",
   "version": "3.7.6"
  }
 },
 "nbformat": 4,
 "nbformat_minor": 5
}
