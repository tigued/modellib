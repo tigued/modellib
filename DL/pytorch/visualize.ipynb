{
 "cells": [
  {
   "cell_type": "markdown",
   "id": "11ae3838",
   "metadata": {},
   "source": [
    "# pytorchのモデル可視化方法\n",
    "- はっきり言って乱立している\n",
    "- 以下を紹介\n",
    "    - torchinfo\n",
    "    - "
   ]
  },
  {
   "cell_type": "markdown",
   "id": "5ab54c05",
   "metadata": {},
   "source": [
    "## torchinfo\n",
    "- jupyterで途中確認したくなった時に気楽に確認可能\n",
    "- 保存はしてくれない。テキストベースなので見にくい。"
   ]
  },
  {
   "cell_type": "code",
   "execution_count": 3,
   "id": "2c84ae65",
   "metadata": {},
   "outputs": [
    {
     "data": {
      "text/plain": [
       "==========================================================================================\n",
       "Layer (type:depth-idx)                   Output Shape              Param #\n",
       "==========================================================================================\n",
       "ResNet                                   --                        --\n",
       "├─Conv2d: 1-1                            [2, 64, 112, 112]         9,408\n",
       "├─BatchNorm2d: 1-2                       [2, 64, 112, 112]         128\n",
       "├─ReLU: 1-3                              [2, 64, 112, 112]         --\n",
       "├─MaxPool2d: 1-4                         [2, 64, 56, 56]           --\n",
       "├─Sequential: 1-5                        [2, 64, 56, 56]           --\n",
       "│    └─BasicBlock: 2-1                   [2, 64, 56, 56]           --\n",
       "│    │    └─Conv2d: 3-1                  [2, 64, 56, 56]           36,864\n",
       "│    │    └─BatchNorm2d: 3-2             [2, 64, 56, 56]           128\n",
       "│    │    └─ReLU: 3-3                    [2, 64, 56, 56]           --\n",
       "│    │    └─Conv2d: 3-4                  [2, 64, 56, 56]           36,864\n",
       "│    │    └─BatchNorm2d: 3-5             [2, 64, 56, 56]           128\n",
       "│    │    └─ReLU: 3-6                    [2, 64, 56, 56]           --\n",
       "│    └─BasicBlock: 2-2                   [2, 64, 56, 56]           --\n",
       "│    │    └─Conv2d: 3-7                  [2, 64, 56, 56]           36,864\n",
       "│    │    └─BatchNorm2d: 3-8             [2, 64, 56, 56]           128\n",
       "│    │    └─ReLU: 3-9                    [2, 64, 56, 56]           --\n",
       "│    │    └─Conv2d: 3-10                 [2, 64, 56, 56]           36,864\n",
       "│    │    └─BatchNorm2d: 3-11            [2, 64, 56, 56]           128\n",
       "│    │    └─ReLU: 3-12                   [2, 64, 56, 56]           --\n",
       "├─Sequential: 1-6                        [2, 128, 28, 28]          --\n",
       "│    └─BasicBlock: 2-3                   [2, 128, 28, 28]          --\n",
       "│    │    └─Conv2d: 3-13                 [2, 128, 28, 28]          73,728\n",
       "│    │    └─BatchNorm2d: 3-14            [2, 128, 28, 28]          256\n",
       "│    │    └─ReLU: 3-15                   [2, 128, 28, 28]          --\n",
       "│    │    └─Conv2d: 3-16                 [2, 128, 28, 28]          147,456\n",
       "│    │    └─BatchNorm2d: 3-17            [2, 128, 28, 28]          256\n",
       "│    │    └─Sequential: 3-18             [2, 128, 28, 28]          8,448\n",
       "│    │    └─ReLU: 3-19                   [2, 128, 28, 28]          --\n",
       "│    └─BasicBlock: 2-4                   [2, 128, 28, 28]          --\n",
       "│    │    └─Conv2d: 3-20                 [2, 128, 28, 28]          147,456\n",
       "│    │    └─BatchNorm2d: 3-21            [2, 128, 28, 28]          256\n",
       "│    │    └─ReLU: 3-22                   [2, 128, 28, 28]          --\n",
       "│    │    └─Conv2d: 3-23                 [2, 128, 28, 28]          147,456\n",
       "│    │    └─BatchNorm2d: 3-24            [2, 128, 28, 28]          256\n",
       "│    │    └─ReLU: 3-25                   [2, 128, 28, 28]          --\n",
       "├─Sequential: 1-7                        [2, 256, 14, 14]          --\n",
       "│    └─BasicBlock: 2-5                   [2, 256, 14, 14]          --\n",
       "│    │    └─Conv2d: 3-26                 [2, 256, 14, 14]          294,912\n",
       "│    │    └─BatchNorm2d: 3-27            [2, 256, 14, 14]          512\n",
       "│    │    └─ReLU: 3-28                   [2, 256, 14, 14]          --\n",
       "│    │    └─Conv2d: 3-29                 [2, 256, 14, 14]          589,824\n",
       "│    │    └─BatchNorm2d: 3-30            [2, 256, 14, 14]          512\n",
       "│    │    └─Sequential: 3-31             [2, 256, 14, 14]          33,280\n",
       "│    │    └─ReLU: 3-32                   [2, 256, 14, 14]          --\n",
       "│    └─BasicBlock: 2-6                   [2, 256, 14, 14]          --\n",
       "│    │    └─Conv2d: 3-33                 [2, 256, 14, 14]          589,824\n",
       "│    │    └─BatchNorm2d: 3-34            [2, 256, 14, 14]          512\n",
       "│    │    └─ReLU: 3-35                   [2, 256, 14, 14]          --\n",
       "│    │    └─Conv2d: 3-36                 [2, 256, 14, 14]          589,824\n",
       "│    │    └─BatchNorm2d: 3-37            [2, 256, 14, 14]          512\n",
       "│    │    └─ReLU: 3-38                   [2, 256, 14, 14]          --\n",
       "├─Sequential: 1-8                        [2, 512, 7, 7]            --\n",
       "│    └─BasicBlock: 2-7                   [2, 512, 7, 7]            --\n",
       "│    │    └─Conv2d: 3-39                 [2, 512, 7, 7]            1,179,648\n",
       "│    │    └─BatchNorm2d: 3-40            [2, 512, 7, 7]            1,024\n",
       "│    │    └─ReLU: 3-41                   [2, 512, 7, 7]            --\n",
       "│    │    └─Conv2d: 3-42                 [2, 512, 7, 7]            2,359,296\n",
       "│    │    └─BatchNorm2d: 3-43            [2, 512, 7, 7]            1,024\n",
       "│    │    └─Sequential: 3-44             [2, 512, 7, 7]            132,096\n",
       "│    │    └─ReLU: 3-45                   [2, 512, 7, 7]            --\n",
       "│    └─BasicBlock: 2-8                   [2, 512, 7, 7]            --\n",
       "│    │    └─Conv2d: 3-46                 [2, 512, 7, 7]            2,359,296\n",
       "│    │    └─BatchNorm2d: 3-47            [2, 512, 7, 7]            1,024\n",
       "│    │    └─ReLU: 3-48                   [2, 512, 7, 7]            --\n",
       "│    │    └─Conv2d: 3-49                 [2, 512, 7, 7]            2,359,296\n",
       "│    │    └─BatchNorm2d: 3-50            [2, 512, 7, 7]            1,024\n",
       "│    │    └─ReLU: 3-51                   [2, 512, 7, 7]            --\n",
       "├─AdaptiveAvgPool2d: 1-9                 [2, 512, 1, 1]            --\n",
       "├─Linear: 1-10                           [2, 1000]                 513,000\n",
       "==========================================================================================\n",
       "Total params: 11,689,512\n",
       "Trainable params: 11,689,512\n",
       "Non-trainable params: 0\n",
       "Total mult-adds (G): 3.63\n",
       "==========================================================================================\n",
       "Input size (MB): 1.20\n",
       "Forward/backward pass size (MB): 79.49\n",
       "Params size (MB): 46.76\n",
       "Estimated Total Size (MB): 127.46\n",
       "=========================================================================================="
      ]
     },
     "execution_count": 3,
     "metadata": {},
     "output_type": "execute_result"
    }
   ],
   "source": [
    "import torch\n",
    "from torchvision.models import resnet18\n",
    "from torchinfo import summary\n",
    "\n",
    "\n",
    "model = resnet18()\n",
    "batch_size = 2\n",
    "\n",
    "summary(\n",
    "    model,\n",
    "    input_size=(batch_size, 3, 224, 224),\n",
    "    col_names=[\"output_size\", \"num_params\"],\n",
    ")"
   ]
  },
  {
   "cell_type": "markdown",
   "id": "2a63d9f2",
   "metadata": {},
   "source": [
    "## tensorboardでの確認\n",
    "- 簡単、見やすい、汎用的\n",
    "- tensorboardが必要なのでだるい、使い方よくわからん\n",
    "- そのうちtensorboardの使い方についても書くかも\n",
    "- dockerで`docker run --runtime=nvidia -it --rm -v $(realpath ~/notebooks):/tf/notebooks -p 8888:8888 -p 6006:6006 tensorflow/tensorflow:1.12.0-gpu-py3`（このコマンドがあってるかは保証しない）\n",
    "- とするか、googlecolabで確認するかのどちらかが良い\n",
    "- 参考1: https://qiita.com/nj_ryoo0/items/f3aac1c0e92b3295c101\n",
    "- 参考2: https://www.msdd.info/entry/2019/12/22/080000"
   ]
  },
  {
   "cell_type": "code",
   "execution_count": 6,
   "id": "6154d34a",
   "metadata": {},
   "outputs": [],
   "source": [
    "import numpy as np\n",
    "from torch.utils.tensorboard import SummaryWriter\n",
    "\n",
    "\n",
    "# ログをとる対象を増やしてみる\n",
    "np.random.seed(111)\n",
    "x1 = np.random.randn(100)\n",
    "y1 = x1.cumsum()\n",
    "\n",
    "x2 = np.random.randn(100)\n",
    "y2 = x2.cumsum()\n",
    "\n",
    "writer = SummaryWriter(log_dir=\"./logs/exp1\") # exp1のように分けると、比較の時に楽\n",
    "\n",
    "# tag = \"group_name/value_name\" の形式にすることで、別々に見てくれる\n",
    "for i in range(100):\n",
    "    writer.add_scalar(\"X/x1\", x1[i], i)\n",
    "    writer.add_scalar(\"Y/y1\", y1[i], i)\n",
    "    writer.add_scalar(\"X/x2\", x2[i], i)\n",
    "    writer.add_scalar(\"Y/y2\", y2[i], i)\n",
    "\n",
    "writer.close()\n"
   ]
  },
  {
   "cell_type": "markdown",
   "id": "9b13c77a",
   "metadata": {},
   "source": [
    "- 上を実行するとログが作られる\n",
    "\n",
    "```tensorboard --logdir logのディレクトリ```で閲覧可能\n",
    "\n",
    "- pytorchのネットワークに対しては以下のようにする"
   ]
  },
  {
   "cell_type": "code",
   "execution_count": 7,
   "id": "88b967ac",
   "metadata": {},
   "outputs": [
    {
     "name": "stdout",
     "output_type": "stream",
     "text": [
      "TestModel(\n",
      "  (fc1): Linear(in_features=10, out_features=5, bias=True)\n",
      "  (fc2): Linear(in_features=5, out_features=2, bias=True)\n",
      ")\n"
     ]
    }
   ],
   "source": [
    "import torch\n",
    "import torch.nn as nn\n",
    "import torch.nn.functional as F\n",
    "\n",
    "class TestModel(nn.Module):\n",
    "    def __init__(self):\n",
    "        super().__init__()\n",
    "        self.fc1=nn.Linear(10,5)\n",
    "        self.fc2=nn.Linear(5,2)\n",
    "        \n",
    "\n",
    "    def forward(self,x):\n",
    "        x=F.relu(self.fc1(x))\n",
    "        x=F.softmax(self.fc2(x))\n",
    "        return x\n",
    "\n",
    "model=TestModel()\n",
    "print(model)"
   ]
  },
  {
   "cell_type": "code",
   "execution_count": 8,
   "id": "120145fd",
   "metadata": {},
   "outputs": [
    {
     "name": "stderr",
     "output_type": "stream",
     "text": [
      "/Users/uedataiga/development/modellib/modellib_pytorch_env/lib/python3.7/site-packages/ipykernel_launcher.py:14: UserWarning: Implicit dimension choice for softmax has been deprecated. Change the call to include dim=X as an argument.\n",
      "  \n"
     ]
    }
   ],
   "source": [
    "from torch.utils.tensorboard import SummaryWriter\n",
    "\n",
    "dummy_input=torch.randn(1,10)\n",
    "\n",
    "writer = SummaryWriter(log_dir='./logs/exp2')\n",
    "writer.add_graph(model, dummy_input)\n",
    "writer.close()\n",
    "# graphsで見ることができる"
   ]
  },
  {
   "cell_type": "markdown",
   "id": "725e1401",
   "metadata": {},
   "source": [
    "## torchviz\n",
    "- fc1とかまで細かく表示してくるからやや見にくい\n",
    "- `cannot import name 'make_dot' from 'torchviz'`とかいう謎エラー起きた。最初は実行できていたので本当に意味がわからない"
   ]
  },
  {
   "cell_type": "code",
   "execution_count": 4,
   "id": "9c59a06b",
   "metadata": {},
   "outputs": [],
   "source": [
    "import torch\n",
    "import torch.nn as nn\n",
    "import torch.nn.functional as F\n",
    "\n",
    "\n",
    "\n",
    "INPUT_SIZE = 10\n",
    "\n",
    "class NeuralNet(nn.Module):\n",
    "    def __init__(self):\n",
    "        super(NeuralNet, self).__init__()\n",
    "        self.fc1 = nn.Linear(INPUT_SIZE, 256)\n",
    "        self.fc2 = nn.Linear(256, 128)\n",
    "        self.fc3 = nn.Linear(128, 10)\n",
    "\n",
    "    def forward(self, x):\n",
    "        x = self.fc1(x)\n",
    "        x = F.relu(x)\n",
    "        x = self.fc2(x)\n",
    "        x = F.relu(x)\n",
    "        x = self.fc3(x)\n",
    "        x = F.softmax(x)\n",
    "\n",
    "        return x"
   ]
  },
  {
   "cell_type": "code",
   "execution_count": 5,
   "id": "a631a069",
   "metadata": {},
   "outputs": [
    {
     "ename": "ImportError",
     "evalue": "cannot import name 'make_dot' from 'torchviz' (/Users/uedataiga/development/modellib/modellib_pytorch_env/lib/python3.7/site-packages/torchviz/__init__.py)",
     "output_type": "error",
     "traceback": [
      "\u001b[0;31m---------------------------------------------------------------------------\u001b[0m",
      "\u001b[0;31mImportError\u001b[0m                               Traceback (most recent call last)",
      "\u001b[0;32m/var/folders/t7/g_jlq91d6q18fls2v2zl_9880000gn/T/ipykernel_17795/2779046060.py\u001b[0m in \u001b[0;36m<module>\u001b[0;34m\u001b[0m\n\u001b[0;32m----> 1\u001b[0;31m \u001b[0;32mfrom\u001b[0m \u001b[0mtorchviz\u001b[0m \u001b[0;32mimport\u001b[0m \u001b[0mmake_dot\u001b[0m\u001b[0;34m\u001b[0m\u001b[0;34m\u001b[0m\u001b[0m\n\u001b[0m\u001b[1;32m      2\u001b[0m \u001b[0;34m\u001b[0m\u001b[0m\n\u001b[1;32m      3\u001b[0m \u001b[0mINPUT_SIZE\u001b[0m \u001b[0;34m=\u001b[0m \u001b[0;36m28\u001b[0m\u001b[0;34m*\u001b[0m\u001b[0;36m28\u001b[0m\u001b[0;34m\u001b[0m\u001b[0;34m\u001b[0m\u001b[0m\n\u001b[1;32m      4\u001b[0m \u001b[0;34m\u001b[0m\u001b[0m\n\u001b[1;32m      5\u001b[0m \u001b[0mmodel\u001b[0m \u001b[0;34m=\u001b[0m \u001b[0mNeuralNet\u001b[0m\u001b[0;34m(\u001b[0m\u001b[0;34m)\u001b[0m\u001b[0;34m\u001b[0m\u001b[0;34m\u001b[0m\u001b[0m\n",
      "\u001b[0;32m~/development/modellib/modellib_pytorch_env/lib/python3.7/site-packages/torchviz/__init__.py\u001b[0m in \u001b[0;36m<module>\u001b[0;34m\u001b[0m\n\u001b[0;32m----> 1\u001b[0;31m \u001b[0;32mfrom\u001b[0m \u001b[0;34m.\u001b[0m\u001b[0mdot\u001b[0m \u001b[0;32mimport\u001b[0m \u001b[0mmake_dot\u001b[0m\u001b[0;34m,\u001b[0m \u001b[0mmake_dot_from_trace\u001b[0m\u001b[0;34m\u001b[0m\u001b[0;34m\u001b[0m\u001b[0m\n\u001b[0m",
      "\u001b[0;32m~/development/modellib/modellib_pytorch_env/lib/python3.7/site-packages/torchviz/dot.py\u001b[0m in \u001b[0;36m<module>\u001b[0;34m\u001b[0m\n\u001b[1;32m      1\u001b[0m \u001b[0;32mfrom\u001b[0m \u001b[0mcollections\u001b[0m \u001b[0;32mimport\u001b[0m \u001b[0mnamedtuple\u001b[0m\u001b[0;34m\u001b[0m\u001b[0;34m\u001b[0m\u001b[0m\n\u001b[1;32m      2\u001b[0m \u001b[0;32mfrom\u001b[0m \u001b[0mdistutils\u001b[0m\u001b[0;34m.\u001b[0m\u001b[0mversion\u001b[0m \u001b[0;32mimport\u001b[0m \u001b[0mLooseVersion\u001b[0m\u001b[0;34m\u001b[0m\u001b[0;34m\u001b[0m\u001b[0m\n\u001b[0;32m----> 3\u001b[0;31m \u001b[0;32mfrom\u001b[0m \u001b[0mgraphviz\u001b[0m \u001b[0;32mimport\u001b[0m \u001b[0mDigraph\u001b[0m\u001b[0;34m\u001b[0m\u001b[0;34m\u001b[0m\u001b[0m\n\u001b[0m\u001b[1;32m      4\u001b[0m \u001b[0;32mimport\u001b[0m \u001b[0mtorch\u001b[0m\u001b[0;34m\u001b[0m\u001b[0;34m\u001b[0m\u001b[0m\n\u001b[1;32m      5\u001b[0m \u001b[0;32mfrom\u001b[0m \u001b[0mtorch\u001b[0m\u001b[0;34m.\u001b[0m\u001b[0mautograd\u001b[0m \u001b[0;32mimport\u001b[0m \u001b[0mVariable\u001b[0m\u001b[0;34m\u001b[0m\u001b[0;34m\u001b[0m\u001b[0m\n",
      "\u001b[0;32m~/development/modellib/modellib/DL/pytorch/graphviz.py\u001b[0m in \u001b[0;36m<module>\u001b[0;34m\u001b[0m\n\u001b[1;32m     24\u001b[0m \u001b[0;34m\u001b[0m\u001b[0m\n\u001b[1;32m     25\u001b[0m \u001b[0;34m\u001b[0m\u001b[0m\n\u001b[0;32m---> 26\u001b[0;31m \u001b[0;32mfrom\u001b[0m \u001b[0mtorchviz\u001b[0m \u001b[0;32mimport\u001b[0m \u001b[0mmake_dot\u001b[0m\u001b[0;34m\u001b[0m\u001b[0;34m\u001b[0m\u001b[0m\n\u001b[0m\u001b[1;32m     27\u001b[0m \u001b[0;34m\u001b[0m\u001b[0m\n\u001b[1;32m     28\u001b[0m \u001b[0mINPUT_SIZE\u001b[0m \u001b[0;34m=\u001b[0m \u001b[0;36m28\u001b[0m\u001b[0;34m*\u001b[0m\u001b[0;36m28\u001b[0m\u001b[0;34m\u001b[0m\u001b[0;34m\u001b[0m\u001b[0m\n",
      "\u001b[0;31mImportError\u001b[0m: cannot import name 'make_dot' from 'torchviz' (/Users/uedataiga/development/modellib/modellib_pytorch_env/lib/python3.7/site-packages/torchviz/__init__.py)"
     ]
    }
   ],
   "source": [
    "\n",
    "from torchviz import make_dot\n",
    "\n",
    "INPUT_SIZE = 28*28\n",
    "\n",
    "model = NeuralNet()\n",
    "data = torch.randn(1, INPUT_SIZE)\n",
    "\n",
    "y = model(data)\n",
    "\n",
    "image = make_dot(y, params=dict(model.named_parameters()))\n",
    "image.format = \"png\"\n",
    "image.render(\"NeuralNet\")"
   ]
  },
  {
   "cell_type": "markdown",
   "id": "5f83d79d",
   "metadata": {},
   "source": [
    "## torchsummary\n",
    "- torchinfoとほぼ同じ、なんでこれがあるのかわからん"
   ]
  },
  {
   "cell_type": "code",
   "execution_count": 3,
   "id": "54f73357",
   "metadata": {},
   "outputs": [
    {
     "name": "stderr",
     "output_type": "stream",
     "text": [
      "1.1%"
     ]
    },
    {
     "name": "stdout",
     "output_type": "stream",
     "text": [
      "1.10.2\n",
      "Downloading http://yann.lecun.com/exdb/mnist/train-images-idx3-ubyte.gz\n",
      "Downloading http://yann.lecun.com/exdb/mnist/train-images-idx3-ubyte.gz to data/MNIST/raw/train-images-idx3-ubyte.gz\n"
     ]
    },
    {
     "name": "stderr",
     "output_type": "stream",
     "text": [
      "100.0%\n"
     ]
    },
    {
     "name": "stdout",
     "output_type": "stream",
     "text": [
      "Extracting data/MNIST/raw/train-images-idx3-ubyte.gz to data/MNIST/raw\n"
     ]
    },
    {
     "name": "stderr",
     "output_type": "stream",
     "text": [
      "102.8%\n",
      "4.1%"
     ]
    },
    {
     "name": "stdout",
     "output_type": "stream",
     "text": [
      "\n",
      "Downloading http://yann.lecun.com/exdb/mnist/train-labels-idx1-ubyte.gz\n",
      "Downloading http://yann.lecun.com/exdb/mnist/train-labels-idx1-ubyte.gz to data/MNIST/raw/train-labels-idx1-ubyte.gz\n",
      "Extracting data/MNIST/raw/train-labels-idx1-ubyte.gz to data/MNIST/raw\n",
      "\n",
      "Downloading http://yann.lecun.com/exdb/mnist/t10k-images-idx3-ubyte.gz\n",
      "Downloading http://yann.lecun.com/exdb/mnist/t10k-images-idx3-ubyte.gz to data/MNIST/raw/t10k-images-idx3-ubyte.gz\n"
     ]
    },
    {
     "name": "stderr",
     "output_type": "stream",
     "text": [
      "100.0%\n",
      "112.7%"
     ]
    },
    {
     "name": "stdout",
     "output_type": "stream",
     "text": [
      "Extracting data/MNIST/raw/t10k-images-idx3-ubyte.gz to data/MNIST/raw\n",
      "\n",
      "Downloading http://yann.lecun.com/exdb/mnist/t10k-labels-idx1-ubyte.gz\n",
      "Downloading http://yann.lecun.com/exdb/mnist/t10k-labels-idx1-ubyte.gz to data/MNIST/raw/t10k-labels-idx1-ubyte.gz\n",
      "Extracting data/MNIST/raw/t10k-labels-idx1-ubyte.gz to data/MNIST/raw\n",
      "\n",
      "----------------------------------------------------------------\n",
      "        Layer (type)               Output Shape         Param #\n",
      "================================================================\n",
      "            Linear-1               [-1, 1, 512]         401,920\n",
      "         Dropout2d-2               [-1, 1, 512]               0\n",
      "            Linear-3               [-1, 1, 512]         262,656\n",
      "         Dropout2d-4               [-1, 1, 512]               0\n",
      "            Linear-5                [-1, 1, 10]           5,130\n",
      "================================================================\n",
      "Total params: 669,706\n",
      "Trainable params: 669,706\n",
      "Non-trainable params: 0\n",
      "----------------------------------------------------------------\n",
      "Input size (MB): 0.00\n",
      "Forward/backward pass size (MB): 0.02\n",
      "Params size (MB): 2.55\n",
      "Estimated Total Size (MB): 2.57\n",
      "----------------------------------------------------------------\n"
     ]
    },
    {
     "name": "stderr",
     "output_type": "stream",
     "text": [
      "\n"
     ]
    }
   ],
   "source": [
    "import torch\n",
    "import torch.nn as nn\n",
    "import torch.nn.functional as F\n",
    "import torch.optim as optim\n",
    "#from torch.utils.tensorboard import SummaryWriter\n",
    "from torch.utils.data import DataLoader\n",
    "import torchvision.transforms as transforms\n",
    "from torchvision import datasets, transforms\n",
    "\n",
    "# 追加============================\n",
    "import os\n",
    "from torchsummary import summary\n",
    "# ===============================\n",
    "\n",
    "from datetime import datetime\n",
    "\n",
    "print(torch.__version__) # 1.5.0\n",
    "\n",
    "# colabでgoogle driveをマウントしてない場合のパス\n",
    "root=\"data/\"\n",
    "\n",
    "# dataの変換方法を定義\n",
    "trans = transforms.Compose([transforms.ToTensor(), transforms.Normalize((0.5,), (0.5,))])\n",
    "\n",
    "# dataをダウンロード\n",
    "train_set = datasets.MNIST(root=root, train=True, transform=trans, download=True)\n",
    "test_set = datasets.MNIST(root=root, train=False, transform=trans, download=True)\n",
    "\n",
    "# cpuかgpuか\n",
    "device = 'cuda' if torch.cuda.is_available() else 'cpu'\n",
    "\n",
    "# dataloaderを定義\n",
    "train_loader = DataLoader(train_set, batch_size=100, shuffle=True)\n",
    "test_loader = DataLoader(test_set, batch_size=100, shuffle=False)\n",
    "\n",
    "# Networkを定義\n",
    "class MLPNet (nn.Module):\n",
    "    def __init__(self):\n",
    "        super().__init__()\n",
    "        self.fc1 = nn.Linear(1 * 28 * 28, 512)\n",
    "        self.fc2 =nn.Linear(512, 512)\n",
    "        self.fc3 = nn.Linear(512, 10)\n",
    "        self.dropout1=nn.Dropout2d(0.2)\n",
    "        self.dropout2=nn.Dropout2d(0.2)\n",
    "\n",
    "    def forward(self, x):\n",
    "        x = F.relu(self.fc1(x))\n",
    "        x = self.dropout1(x)\n",
    "        x = F.relu(self.fc2(x))\n",
    "        x = self.dropout2(x)\n",
    "        return F.relu(self.fc3(x))\n",
    "\n",
    "net = MLPNet().to(device)\n",
    "\n",
    "# torchsummaryを使った可視化\n",
    "summary(net, input_size=(1,1 * 28 * 28))"
   ]
  },
  {
   "cell_type": "markdown",
   "id": "ce536178",
   "metadata": {},
   "source": []
  }
 ],
 "metadata": {
  "kernelspec": {
   "display_name": "modellib_pytorch_env",
   "language": "python",
   "name": "modellib_pytorch_env"
  },
  "language_info": {
   "codemirror_mode": {
    "name": "ipython",
    "version": 3
   },
   "file_extension": ".py",
   "mimetype": "text/x-python",
   "name": "python",
   "nbconvert_exporter": "python",
   "pygments_lexer": "ipython3",
   "version": "3.7.6"
  }
 },
 "nbformat": 4,
 "nbformat_minor": 5
}
